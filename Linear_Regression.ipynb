{
  "nbformat": 4,
  "nbformat_minor": 0,
  "metadata": {
    "colab": {
      "provenance": [],
      "authorship_tag": "ABX9TyOM1rNoD2gzQ8BgZYq4QOz3",
      "include_colab_link": true
    },
    "kernelspec": {
      "name": "python3",
      "display_name": "Python 3"
    },
    "language_info": {
      "name": "python"
    }
  },
  "cells": [
    {
      "cell_type": "markdown",
      "metadata": {
        "id": "view-in-github",
        "colab_type": "text"
      },
      "source": [
        "<a href=\"https://colab.research.google.com/github/Pradhan14102003/Python-Machine-Learning/blob/main/Linear_Regression.ipynb\" target=\"_parent\"><img src=\"https://colab.research.google.com/assets/colab-badge.svg\" alt=\"Open In Colab\"/></a>"
      ]
    },
    {
      "cell_type": "markdown",
      "source": [
        "Multivariate Linear regression"
      ],
      "metadata": {
        "id": "auW8hzGpkFV9"
      }
    },
    {
      "cell_type": "code",
      "execution_count": null,
      "metadata": {
        "id": "eVkMBggB9dDp",
        "colab": {
          "base_uri": "https://localhost:8080/",
          "height": 1000
        },
        "outputId": "404b8fb9-1733-481e-fe2a-10d1becfdb8c"
      },
      "outputs": [
        {
          "output_type": "stream",
          "name": "stdout",
          "text": [
            "[[0.17069289]\n",
            " [0.17069289]\n",
            " [0.17069289]\n",
            " [0.12351189]\n",
            " [0.12351189]\n",
            " [0.17069289]\n",
            " [0.17069289]\n",
            " [0.12351189]\n",
            " [0.0763309 ]\n",
            " [0.17069289]\n",
            " [0.17069289]\n",
            " [0.17069289]\n",
            " [0.17069289]\n",
            " [0.17069289]\n",
            " [0.17069289]\n",
            " [0.17069289]\n",
            " [0.17069289]\n",
            " [0.12351189]\n",
            " [0.17069289]\n",
            " [0.12351189]\n",
            " [0.17069289]\n",
            " [0.12351189]\n",
            " [0.17069289]\n",
            " [0.12351189]\n",
            " [0.17069289]\n",
            " [0.17069289]\n",
            " [0.17069289]\n",
            " [0.17069289]\n",
            " [0.17069289]\n",
            " [0.17069289]\n",
            " [0.17069289]\n",
            " [0.12351189]\n",
            " [0.17069289]\n",
            " [0.17069289]\n",
            " [0.17069289]\n",
            " [0.17069289]\n",
            " [0.17069289]\n",
            " [0.17069289]\n",
            " [0.17069289]\n",
            " [0.12351189]\n",
            " [0.12351189]\n",
            " [0.17069289]\n",
            " [0.17069289]\n",
            " [0.17069289]\n",
            " [0.17069289]\n",
            " [0.17069289]\n",
            " [0.17069289]\n",
            " [0.12351189]\n",
            " [0.12351189]\n",
            " [0.17069289]\n",
            " [0.17069289]\n",
            " [0.23360088]\n",
            " [0.17069289]\n",
            " [0.17069289]\n",
            " [0.0763309 ]\n",
            " [0.17069289]\n",
            " [0.17069289]\n",
            " [0.12351189]\n",
            " [0.0448769 ]\n",
            " [0.12351189]\n",
            " [0.64250285]\n",
            " [0.48523286]\n",
            " [0.48523286]\n",
            " [0.12351189]\n",
            " [0.0448769 ]\n",
            " [0.54814086]\n",
            " [0.45377886]\n",
            " [0.45377886]\n",
            " [0.0448769 ]\n",
            " [0.92558882]\n",
            " [0.45377886]\n",
            " [0.17069289]\n",
            " [0.26505488]\n",
            " [0.45377886]\n",
            " [0.12351189]\n",
            " [0.26505488]\n",
            " [0.12351189]\n",
            " [0.12351189]\n",
            " [0.35941687]\n",
            " [0.83122683]\n",
            " [0.0763309 ]\n",
            " [0.12351189]\n",
            " [0.0763309 ]\n",
            " [0.35941687]\n",
            " [0.12351189]\n",
            " [0.0763309 ]\n",
            " [0.12351189]\n",
            " [0.35941687]\n",
            " [0.12351189]\n",
            " [0.0448769 ]\n",
            " [0.54814086]\n",
            " [0.12351189]\n",
            " [0.0763309 ]\n",
            " [0.0291499 ]\n",
            " [0.0448769 ]\n",
            " [0.0448769 ]\n",
            " [0.0763309 ]\n",
            " [0.0606039 ]\n",
            " [0.0763309 ]\n",
            " [0.26505488]\n",
            " [0.0448769 ]\n",
            " [0.26505488]\n",
            " [0.26505488]\n",
            " [0.26505488]\n",
            " [0.0763309 ]\n",
            " [0.0763309 ]\n",
            " [0.54814086]\n",
            " [0.0763309 ]\n",
            " [0.26505488]\n",
            " [0.64250285]\n",
            " [0.17069289]\n",
            " [0.12351189]\n",
            " [0.0291499 ]\n",
            " [0.12351189]\n",
            " [0.17069289]\n",
            " [0.17069289]\n",
            " [0.17069289]\n",
            " [0.17069289]\n",
            " [0.17069289]\n",
            " [0.17069289]\n",
            " [0.0763309 ]\n",
            " [0.12351189]\n",
            " [0.17069289]\n",
            " [0.17069289]\n",
            " [0.17069289]\n",
            " [0.17069289]\n",
            " [0.17069289]\n",
            " [0.17069289]\n",
            " [0.26505488]\n",
            " [0.17069289]\n",
            " [0.17069289]\n",
            " [0.17069289]\n",
            " [0.17069289]\n",
            " [0.17069289]\n",
            " [0.17069289]\n",
            " [0.0448769 ]\n",
            " [0.12351189]\n",
            " [0.12351189]\n",
            " [0.12351189]\n",
            " [0.0448769 ]\n",
            " [0.17069289]\n",
            " [0.17069289]\n",
            " [0.12351189]\n",
            " [0.12351189]\n",
            " [0.17069289]\n",
            " [0.12351189]\n",
            " [0.17069289]\n",
            " [0.17069289]\n",
            " [0.0763309 ]\n",
            " [0.17069289]\n",
            " [0.17069289]\n",
            " [0.17069289]\n",
            " [0.17069289]\n",
            " [0.0763309 ]\n",
            " [0.17069289]\n",
            " [0.17069289]\n",
            " [0.17069289]\n",
            " [0.17069289]\n",
            " [0.17069289]\n",
            " [0.0763309 ]\n",
            " [0.0763309 ]\n",
            " [0.12351189]\n",
            " [0.12351189]\n",
            " [0.12351189]\n",
            " [0.17069289]\n",
            " [0.17069289]\n",
            " [0.17069289]\n",
            " [0.21787389]\n",
            " [0.21787389]]\n",
            "Enter the learning rate: 0.01\n",
            "[[0.1827254 ]\n",
            " [0.1827254 ]\n",
            " [0.1827254 ]\n",
            " [0.17234273]\n",
            " [0.17234273]\n",
            " [0.1827254 ]\n",
            " [0.1827254 ]\n",
            " [0.17234273]\n",
            " [0.16196007]\n",
            " [0.1827254 ]\n",
            " [0.1827254 ]\n",
            " [0.1827254 ]\n",
            " [0.1827254 ]\n",
            " [0.1827254 ]\n",
            " [0.1827254 ]\n",
            " [0.1827254 ]\n",
            " [0.1827254 ]\n",
            " [0.17234273]\n",
            " [0.1827254 ]\n",
            " [0.17234273]\n",
            " [0.1827254 ]\n",
            " [0.17234273]\n",
            " [0.1827254 ]\n",
            " [0.17234273]\n",
            " [0.1827254 ]\n",
            " [0.1827254 ]\n",
            " [0.1827254 ]\n",
            " [0.1827254 ]\n",
            " [0.1827254 ]\n",
            " [0.1827254 ]\n",
            " [0.1827254 ]\n",
            " [0.17234273]\n",
            " [0.1827254 ]\n",
            " [0.1827254 ]\n",
            " [0.1827254 ]\n",
            " [0.1827254 ]\n",
            " [0.1827254 ]\n",
            " [0.1827254 ]\n",
            " [0.1827254 ]\n",
            " [0.17234273]\n",
            " [0.17234273]\n",
            " [0.1827254 ]\n",
            " [0.1827254 ]\n",
            " [0.1827254 ]\n",
            " [0.1827254 ]\n",
            " [0.1827254 ]\n",
            " [0.1827254 ]\n",
            " [0.17234273]\n",
            " [0.17234273]\n",
            " [0.1827254 ]\n",
            " [0.1827254 ]\n",
            " [0.19656896]\n",
            " [0.1827254 ]\n",
            " [0.1827254 ]\n",
            " [0.16196007]\n",
            " [0.1827254 ]\n",
            " [0.1827254 ]\n",
            " [0.17234273]\n",
            " [0.15503829]\n",
            " [0.17234273]\n",
            " [0.28655207]\n",
            " [0.25194318]\n",
            " [0.25194318]\n",
            " [0.17234273]\n",
            " [0.15503829]\n",
            " [0.26578674]\n",
            " [0.2450214 ]\n",
            " [0.2450214 ]\n",
            " [0.15503829]\n",
            " [0.34884808]\n",
            " [0.2450214 ]\n",
            " [0.1827254 ]\n",
            " [0.20349073]\n",
            " [0.2450214 ]\n",
            " [0.17234273]\n",
            " [0.20349073]\n",
            " [0.17234273]\n",
            " [0.17234273]\n",
            " [0.22425607]\n",
            " [0.32808274]\n",
            " [0.16196007]\n",
            " [0.17234273]\n",
            " [0.16196007]\n",
            " [0.22425607]\n",
            " [0.17234273]\n",
            " [0.16196007]\n",
            " [0.17234273]\n",
            " [0.22425607]\n",
            " [0.17234273]\n",
            " [0.15503829]\n",
            " [0.26578674]\n",
            " [0.17234273]\n",
            " [0.16196007]\n",
            " [0.1515774 ]\n",
            " [0.15503829]\n",
            " [0.15503829]\n",
            " [0.16196007]\n",
            " [0.15849918]\n",
            " [0.16196007]\n",
            " [0.20349073]\n",
            " [0.15503829]\n",
            " [0.20349073]\n",
            " [0.20349073]\n",
            " [0.20349073]\n",
            " [0.16196007]\n",
            " [0.16196007]\n",
            " [0.26578674]\n",
            " [0.16196007]\n",
            " [0.20349073]\n",
            " [0.28655207]\n",
            " [0.1827254 ]\n",
            " [0.17234273]\n",
            " [0.1515774 ]\n",
            " [0.17234273]\n",
            " [0.1827254 ]\n",
            " [0.1827254 ]\n",
            " [0.1827254 ]\n",
            " [0.1827254 ]\n",
            " [0.1827254 ]\n",
            " [0.1827254 ]\n",
            " [0.16196007]\n",
            " [0.17234273]\n",
            " [0.1827254 ]\n",
            " [0.1827254 ]\n",
            " [0.1827254 ]\n",
            " [0.1827254 ]\n",
            " [0.1827254 ]\n",
            " [0.1827254 ]\n",
            " [0.20349073]\n",
            " [0.1827254 ]\n",
            " [0.1827254 ]\n",
            " [0.1827254 ]\n",
            " [0.1827254 ]\n",
            " [0.1827254 ]\n",
            " [0.1827254 ]\n",
            " [0.15503829]\n",
            " [0.17234273]\n",
            " [0.17234273]\n",
            " [0.17234273]\n",
            " [0.15503829]\n",
            " [0.1827254 ]\n",
            " [0.1827254 ]\n",
            " [0.17234273]\n",
            " [0.17234273]\n",
            " [0.1827254 ]\n",
            " [0.17234273]\n",
            " [0.1827254 ]\n",
            " [0.1827254 ]\n",
            " [0.16196007]\n",
            " [0.1827254 ]\n",
            " [0.1827254 ]\n",
            " [0.1827254 ]\n",
            " [0.1827254 ]\n",
            " [0.16196007]\n",
            " [0.1827254 ]\n",
            " [0.1827254 ]\n",
            " [0.1827254 ]\n",
            " [0.1827254 ]\n",
            " [0.1827254 ]\n",
            " [0.16196007]\n",
            " [0.16196007]\n",
            " [0.17234273]\n",
            " [0.17234273]\n",
            " [0.17234273]\n",
            " [0.1827254 ]\n",
            " [0.1827254 ]\n",
            " [0.1827254 ]\n",
            " [0.19310807]\n",
            " [0.19310807]]\n"
          ]
        },
        {
          "output_type": "display_data",
          "data": {
            "text/plain": [
              "<Figure size 640x480 with 1 Axes>"
            ],
            "image/png": "[encoded data removed]"
          },
          "metadata": {}
        }
      ],
      "source": [
        "import pandas as pd\n",
        "import numpy as np\n",
        "import random\n",
        "import matplotlib.pyplot as plt\n",
        "\n",
        "# Load the data\n",
        "k = pd.read_excel('/content/data.xlsx', usecols='A')\n",
        "l = pd.read_excel('/content/data.xlsx', usecols='B')\n",
        "x = np.array(k).reshape((-1, 1))\n",
        "y = np.array(l)\n",
        "x_min = np.min(x)\n",
        "x_max = np.max(x)\n",
        "y_min = np.min(y)\n",
        "y_max = np.max(y)\n",
        "x = (x - x_min) / (x_max - x_min)\n",
        "y = (y - y_min) / (y_max - y_min)\n",
        "\n",
        "from sklearn.linear_model import LinearRegression\n",
        "\n",
        "SLR = LinearRegression()\n",
        "SLR.fit(x, y)\n",
        "pred1 = SLR.predict(x)\n",
        "print(pred1)\n",
        "\n",
        "Wo = 0.0  # Initialize with 0\n",
        "W1 = 0.0  # Initialize with 0\n",
        "alph = float(input(\"Enter the learning rate: \"))\n",
        "m = len(x)  # The number of data points\n",
        "\n",
        "def gradient(Wo, W1, x, y, alpha):\n",
        "    for i in range(1000):\n",
        "        mse1 = 0\n",
        "        mse2 = 0\n",
        "        cost = 0.0\n",
        "\n",
        "        for j in range(m):\n",
        "            pred = Wo + W1 * x[j]\n",
        "            mse1 += pred - y[j]\n",
        "            mse2 += (pred - y[j]) * x[j]\n",
        "            cost += (pred - y[j]) ** 2\n",
        "\n",
        "        Wo -= (alpha / m) * mse1\n",
        "        W1 -= (alpha / m) * mse2\n",
        "\n",
        "        cost /= (2.0 * m)\n",
        "\n",
        "    return Wo, W1\n",
        "\n",
        "Wo, W1 = gradient(Wo, W1, x, y, alph)\n",
        "pred = Wo + W1 * x\n",
        "\n",
        "print(pred)\n",
        "\n",
        "plt.scatter(x, y, color='Red')\n",
        "plt.plot(x, pred, color='Black', marker='*', linestyle='dotted')\n",
        "plt.show()\n",
        "\n"
      ]
    },
    {
      "cell_type": "markdown",
      "source": [
        "Polynomial regression"
      ],
      "metadata": {
        "id": "FhFip3qilcOs"
      }
    },
    {
      "cell_type": "code",
      "source": [
        "#(Only one feature)Univariate Linear regression type\n",
        "import pandas as pd\n",
        "import matplotlib.pyplot as plt\n",
        "import numpy as np"
      ],
      "metadata": {
        "id": "DG0yeQqbliK-"
      },
      "execution_count": null,
      "outputs": []
    },
    {
      "cell_type": "code",
      "source": [
        "x = np.array([5, 15, 25, 35, 45, 55]).reshape((-1, 1))\n",
        "y = np.array([15, 11, 2, 8, 25, 32])"
      ],
      "metadata": {
        "id": "B66Uwc7Ro-OH"
      },
      "execution_count": null,
      "outputs": []
    },
    {
      "cell_type": "code",
      "source": [
        "plt.scatter(x,y)\n",
        "plt.xlabel(\"IV\")\n",
        "plt.ylabel(\"DV\")\n",
        "plt.show()"
      ],
      "metadata": {
        "colab": {
          "base_uri": "https://localhost:8080/",
          "height": 449
        },
        "id": "2ROJQz80o-P-",
        "outputId": "8702970c-99f8-4e61-9308-7917cb2e00dc"
      },
      "execution_count": null,
      "outputs": [
        {
          "output_type": "display_data",
          "data": {
            "text/plain": [
              "<Figure size 640x480 with 1 Axes>"
            ],
            "image/png": "[encoded data removed]"
          },
          "metadata": {}
        }
      ]
    },
    {
      "cell_type": "code",
      "source": [
        "from sklearn.linear_model import LinearRegression\n",
        "from sklearn.preprocessing import PolynomialFeatures"
      ],
      "metadata": {
        "id": "ovuV_t9QpIKT"
      },
      "execution_count": null,
      "outputs": []
    },
    {
      "cell_type": "code",
      "source": [
        "transformer = PolynomialFeatures(degree=2, include_bias=False)"
      ],
      "metadata": {
        "id": "N4n5yjumpIMC"
      },
      "execution_count": null,
      "outputs": []
    },
    {
      "cell_type": "code",
      "source": [
        "transformer.fit(x)"
      ],
      "metadata": {
        "colab": {
          "base_uri": "https://localhost:8080/",
          "height": 74
        },
        "id": "sNP2tV_mpIPn",
        "outputId": "7b2396fb-74d5-46f7-eddd-f23283578462"
      },
      "execution_count": null,
      "outputs": [
        {
          "output_type": "execute_result",
          "data": {
            "text/plain": [
              "PolynomialFeatures(include_bias=False)"
            ],
            "text/html": [
              "<style>#sk-container-id-1 {color: black;background-color: white;}#sk-container-id-1 pre{padding: 0;}#sk-container-id-1 div.sk-toggleable {background-color: white;}#sk-container-id-1 label.sk-toggleable__label {cursor: pointer;display: block;width: 100%;margin-bottom: 0;padding: 0.3em;box-sizing: border-box;text-align: center;}#sk-container-id-1 label.sk-toggleable__label-arrow:before {content: \"▸\";float: left;margin-right: 0.25em;color: #696969;}#sk-container-id-1 label.sk-toggleable__label-arrow:hover:before {color: black;}#sk-container-id-1 div.sk-estimator:hover label.sk-toggleable__label-arrow:before {color: black;}#sk-container-id-1 div.sk-toggleable__content {max-height: 0;max-width: 0;overflow: hidden;text-align: left;background-color: #f0f8ff;}#sk-container-id-1 div.sk-toggleable__content pre {margin: 0.2em;color: black;border-radius: 0.25em;background-color: #f0f8ff;}#sk-container-id-1 input.sk-toggleable__control:checked~div.sk-toggleable__content {max-height: 200px;max-width: 100%;overflow: auto;}#sk-container-id-1 input.sk-toggleable__control:checked~label.sk-toggleable__label-arrow:before {content: \"▾\";}#sk-container-id-1 div.sk-estimator input.sk-toggleable__control:checked~label.sk-toggleable__label {background-color: #d4ebff;}#sk-container-id-1 div.sk-label input.sk-toggleable__control:checked~label.sk-toggleable__label {background-color: #d4ebff;}#sk-container-id-1 input.sk-hidden--visually {border: 0;clip: rect(1px 1px 1px 1px);clip: rect(1px, 1px, 1px, 1px);height: 1px;margin: -1px;overflow: hidden;padding: 0;position: absolute;width: 1px;}#sk-container-id-1 div.sk-estimator {font-family: monospace;background-color: #f0f8ff;border: 1px dotted black;border-radius: 0.25em;box-sizing: border-box;margin-bottom: 0.5em;}#sk-container-id-1 div.sk-estimator:hover {background-color: #d4ebff;}#sk-container-id-1 div.sk-parallel-item::after {content: \"\";width: 100%;border-bottom: 1px solid gray;flex-grow: 1;}#sk-container-id-1 div.sk-label:hover label.sk-toggleable__label {background-color: #d4ebff;}#sk-container-id-1 div.sk-serial::before {content: \"\";position: absolute;border-left: 1px solid gray;box-sizing: border-box;top: 0;bottom: 0;left: 50%;z-index: 0;}#sk-container-id-1 div.sk-serial {display: flex;flex-direction: column;align-items: center;background-color: white;padding-right: 0.2em;padding-left: 0.2em;position: relative;}#sk-container-id-1 div.sk-item {position: relative;z-index: 1;}#sk-container-id-1 div.sk-parallel {display: flex;align-items: stretch;justify-content: center;background-color: white;position: relative;}#sk-container-id-1 div.sk-item::before, #sk-container-id-1 div.sk-parallel-item::before {content: \"\";position: absolute;border-left: 1px solid gray;box-sizing: border-box;top: 0;bottom: 0;left: 50%;z-index: -1;}#sk-container-id-1 div.sk-parallel-item {display: flex;flex-direction: column;z-index: 1;position: relative;background-color: white;}#sk-container-id-1 div.sk-parallel-item:first-child::after {align-self: flex-end;width: 50%;}#sk-container-id-1 div.sk-parallel-item:last-child::after {align-self: flex-start;width: 50%;}#sk-container-id-1 div.sk-parallel-item:only-child::after {width: 0;}#sk-container-id-1 div.sk-dashed-wrapped {border: 1px dashed gray;margin: 0 0.4em 0.5em 0.4em;box-sizing: border-box;padding-bottom: 0.4em;background-color: white;}#sk-container-id-1 div.sk-label label {font-family: monospace;font-weight: bold;display: inline-block;line-height: 1.2em;}#sk-container-id-1 div.sk-label-container {text-align: center;}#sk-container-id-1 div.sk-container {/* jupyter's `normalize.less` sets `[hidden] { display: none; }` but bootstrap.min.css set `[hidden] { display: none !important; }` so we also need the `!important` here to be able to override the default hidden behavior on the sphinx rendered scikit-learn.org. See: https://github.com/scikit-learn/scikit-learn/issues/21755 */display: inline-block !important;position: relative;}#sk-container-id-1 div.sk-text-repr-fallback {display: none;}</style><div id=\"sk-container-id-1\" class=\"sk-top-container\"><div class=\"sk-text-repr-fallback\"><pre>PolynomialFeatures(include_bias=False)</pre><b>In a Jupyter environment, please rerun this cell to show the HTML representation or trust the notebook. <br />On GitHub, the HTML representation is unable to render, please try loading this page with nbviewer.org.</b></div><div class=\"sk-container\" hidden><div class=\"sk-item\"><div class=\"sk-estimator sk-toggleable\"><input class=\"sk-toggleable__control sk-hidden--visually\" id=\"sk-estimator-id-1\" type=\"checkbox\" checked><label for=\"sk-estimator-id-1\" class=\"sk-toggleable__label sk-toggleable__label-arrow\">PolynomialFeatures</label><div class=\"sk-toggleable__content\"><pre>PolynomialFeatures(include_bias=False)</pre></div></div></div></div></div>"
            ]
          },
          "metadata": {},
          "execution_count": 7
        }
      ]
    },
    {
      "cell_type": "code",
      "source": [
        "x_new=transformer.transform(x)\n",
        "print(x_new)"
      ],
      "metadata": {
        "colab": {
          "base_uri": "https://localhost:8080/"
        },
        "id": "AsDoCNaoo-Tl",
        "outputId": "5403fe3e-5e82-4607-a6f1-ee3f5b251fdc"
      },
      "execution_count": null,
      "outputs": [
        {
          "output_type": "stream",
          "name": "stdout",
          "text": [
            "[[   5.   25.]\n",
            " [  15.  225.]\n",
            " [  25.  625.]\n",
            " [  35. 1225.]\n",
            " [  45. 2025.]\n",
            " [  55. 3025.]]\n"
          ]
        }
      ]
    },
    {
      "cell_type": "code",
      "source": [
        "MLR=LinearRegression()\n",
        "MLR.fit(x_new,y)\n",
        "y_pred=MLR.intercept_+np.sum(MLR.coef_*x_new,axis=1)\n",
        "print(y_pred)"
      ],
      "metadata": {
        "colab": {
          "base_uri": "https://localhost:8080/"
        },
        "id": "yNDqyk2BpcEW",
        "outputId": "5e043e1d-ebbb-42b5-8f37-a96ac1df8baa"
      },
      "execution_count": null,
      "outputs": [
        {
          "output_type": "stream",
          "name": "stdout",
          "text": [
            "[15.46428571  7.90714286  6.02857143  9.82857143 19.30714286 34.46428571]\n"
          ]
        }
      ]
    },
    {
      "cell_type": "code",
      "source": [
        "from sklearn.metrics import mean_squared_error\n",
        "\n",
        "mse=mean_squared_error(y,y_pred)\n",
        "plt.scatter(x,y,color='Red')\n",
        "plt.plot(x,y_pred,color='Black',marker='*')\n",
        "\n",
        "print(\"MSE:\",mse)\n",
        "print(\"Intercept=\",MLR.intercept_)\n",
        "print(\"Slope=\",MLR.coef_)"
      ],
      "metadata": {
        "colab": {
          "base_uri": "https://localhost:8080/",
          "height": 482
        },
        "id": "O8Bra4rrpcH1",
        "outputId": "6002f7e3-3b76-49a8-da4c-32e0c9ff4d53"
      },
      "execution_count": null,
      "outputs": [
        {
          "output_type": "stream",
          "name": "stdout",
          "text": [
            "MSE: 11.305952380952384\n",
            "Intercept= 21.37232142857144\n",
            "Slope= [-1.32357143  0.02839286]\n"
          ]
        },
        {
          "output_type": "display_data",
          "data": {
            "text/plain": [
              "<Figure size 640x480 with 1 Axes>"
            ],
            "image/png": "[encoded data removed]"
          },
          "metadata": {}
        }
      ]
    }
  ]
}